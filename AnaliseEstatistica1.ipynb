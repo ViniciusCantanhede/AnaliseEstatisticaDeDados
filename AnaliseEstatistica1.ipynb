{
  "nbformat": 4,
  "nbformat_minor": 0,
  "metadata": {
    "colab": {
      "provenance": []
    },
    "kernelspec": {
      "name": "python3",
      "display_name": "Python 3"
    },
    "language_info": {
      "name": "python"
    }
  },
  "cells": [
    {
      "cell_type": "code",
      "execution_count": null,
      "metadata": {
        "id": "LMHNWlnU6Pel"
      },
      "outputs": [],
      "source": [
        "import numpy as np\n",
        "import matplotlib.pyplot as plt\n",
        "import random as rd\n"
      ]
    },
    {
      "cell_type": "code",
      "source": [
        "idades = list(range(18, 66))\n",
        "\n",
        "n_classes = 0\n",
        "while n_classes <= 0:\n",
        "    n_classes = int(input(\"Escolha o número de classes: \"))\n",
        "\n",
        "max_valor = np.max(idades)\n",
        "min_valor = np.min(idades)\n",
        "amp = (max_valor - min_valor) / n_classes\n",
        "\n",
        "print(\"Amplitude das classes:\", amp)\n",
        "\n"
      ],
      "metadata": {
        "colab": {
          "base_uri": "https://localhost:8080/"
        },
        "id": "h1MUx18LUyaM",
        "outputId": "3965d4f1-65c3-4ed1-e61b-e216549258d5"
      },
      "execution_count": null,
      "outputs": [
        {
          "output_type": "stream",
          "name": "stdout",
          "text": [
            "Escolha o número de classes: 4\n",
            "Amplitude das classes: 11.75\n"
          ]
        }
      ]
    },
    {
      "cell_type": "code",
      "source": [
        "for i in range(1, n_classes + 1):\n",
        "    print(f\"A {i}ª classe vai de {min_valor + (amp * (i - 1))} a {min_valor + (amp * i)}\")"
      ],
      "metadata": {
        "colab": {
          "base_uri": "https://localhost:8080/"
        },
        "id": "gRpeEHoeVBDz",
        "outputId": "851f184e-fa99-4548-8f52-f54061bae9d1"
      },
      "execution_count": null,
      "outputs": [
        {
          "output_type": "stream",
          "name": "stdout",
          "text": [
            "A 1ª classe vai de 18.0 a 29.75\n",
            "A 2ª classe vai de 29.75 a 41.5\n",
            "A 3ª classe vai de 41.5 a 53.25\n",
            "A 4ª classe vai de 53.25 a 65.0\n"
          ]
        }
      ]
    },
    {
      "cell_type": "code",
      "source": [
        "num_classes = 5\n",
        "randomlist = []\n",
        "for i in range(0, 15):\n",
        "  x = rd.randint(1,30) #gera numeros aleatorios inteiros\n",
        "  randomlist.append(x) #adiciona um numero aleatorio\n",
        "print(randomlist)\n",
        "\n",
        "eixo_x = list(range(len(randomlist))) #criando indice\n",
        "min_value = min(randomlist)\n",
        "max_value = max(randomlist)\n",
        "amplitude = max_value - min_value\n",
        "#calcular o tamanho de cada classe\n",
        "classe_size = amplitude / num_classes\n",
        "print(classe_size)\n",
        "plt.hist(randomlist, num_classes, align='mid', edgecolor='olive', color='pink')\n",
        "plt.show()"
      ],
      "metadata": {
        "colab": {
          "base_uri": "https://localhost:8080/",
          "height": 465
        },
        "id": "coSflsViXrt3",
        "outputId": "639c66ad-b141-4e08-a07e-5c6158d72d38"
      },
      "execution_count": null,
      "outputs": [
        {
          "output_type": "stream",
          "name": "stdout",
          "text": [
            "[13, 10, 16, 17, 22, 27, 17, 6, 27, 30, 20, 8, 30, 3, 3]\n",
            "5.4\n"
          ]
        },
        {
          "output_type": "display_data",
          "data": {
            "text/plain": [
              "<Figure size 640x480 with 1 Axes>"
            ],
            "image/png": "[encoded data removed]"
          },
          "metadata": {}
        }
      ]
    },
    {
      "cell_type": "code",
      "source": [
        "lista = [5,10,15,25,35,40]\n",
        "plt.boxplot(lista)\n",
        "plt.show()"
      ],
      "metadata": {
        "colab": {
          "base_uri": "https://localhost:8080/",
          "height": 430
        },
        "id": "4_lIYYxQXrwf",
        "outputId": "a01054aa-b102-4347-8ac3-74479799c1c4"
      },
      "execution_count": null,
      "outputs": [
        {
          "output_type": "display_data",
          "data": {
            "text/plain": [
              "<Figure size 640x480 with 1 Axes>"
            ],
            "image/png": "[encoded data removed]"
          },
          "metadata": {}
        }
      ]
    },
    {
      "cell_type": "code",
      "source": [],
      "metadata": {
        "id": "raSE1zwqXryn"
      },
      "execution_count": null,
      "outputs": []
    }
  ]
}