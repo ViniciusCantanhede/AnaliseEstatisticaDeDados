{
  "nbformat": 4,
  "nbformat_minor": 0,
  "metadata": {
    "colab": {
      "provenance": []
    },
    "kernelspec": {
      "name": "python3",
      "display_name": "Python 3"
    },
    "language_info": {
      "name": "python"
    }
  },
  "cells": [
    {
      "cell_type": "code",
      "execution_count": 1,
      "metadata": {
        "colab": {
          "base_uri": "https://localhost:8080/"
        },
        "id": "yxbS_AfOg8CI",
        "outputId": "1b8b9280-5831-42fe-96d9-299ae3427520"
      },
      "outputs": [
        {
          "output_type": "stream",
          "name": "stdout",
          "text": [
            "Digite o tipo de teste (unilateral ou bilateral): unilateral\n",
            "Digite o nível de significância (entre 0 e 1): 0.95\n",
            "O valor da estatística de teste é igual a 2.5936119985383126\n",
            "A confiança do teste é igual a 0.050000000000000044\n",
            "O valor crítico da distribuição associada é igual a -1.8331129326536335\n",
            "A hipótese/afirmação dada deve ser rejeita-se a afirmação dada\n"
          ]
        }
      ],
      "source": [
        "import numpy as np\n",
        "import pandas as pd\n",
        "from scipy import stats\n",
        "\n",
        "# Coletar os dados de indenizações\n",
        "dados = np.array([1033, 1069, 1274, 1121, 1114, 1269, 924, 1150, 1421, 921])\n",
        "\n",
        "# Solicitar ao usuário o tipo de teste (unilateral ou bilateral)\n",
        "tipo_teste = input(\"Digite o tipo de teste (unilateral ou bilateral): \").strip().lower()\n",
        "\n",
        "# Solicitar ao usuário o nível de significância\n",
        "nivel_significancia = float(input(\"Digite o nível de significância (entre 0 e 1): \"))\n",
        "\n",
        "# Calcular a média da amostra\n",
        "media_amostra = np.mean(dados)\n",
        "\n",
        "# Parâmetros do teste\n",
        "media_populacao = 1000  # Valor médio hipotético da população\n",
        "tamanho_amostra = len(dados)\n",
        "graus_liberdade = tamanho_amostra - 1\n",
        "confianca = 1 - nivel_significancia\n",
        "\n",
        "# Realizar o teste de hipótese\n",
        "if tipo_teste == \"unilateral\":\n",
        "    # Teste unilateral superior (Média da população > 1000)\n",
        "    estatistica_teste = (media_amostra - media_populacao) / (np.std(dados, ddof=1) / np.sqrt(tamanho_amostra))\n",
        "    valor_critico = stats.t.ppf(confianca, graus_liberdade)\n",
        "\n",
        "    if estatistica_teste > valor_critico:\n",
        "        resultado = \"rejeita-se a afirmação dada\"\n",
        "    else:\n",
        "        resultado = \"aceita-se a afirmação dada\"\n",
        "elif tipo_teste == \"bilateral\":\n",
        "    # Teste bilateral (Média da população ≠ 1000)\n",
        "    estatistica_teste = (media_amostra - media_populacao) / (np.std(dados, ddof=1) / np.sqrt(tamanho_amostra))\n",
        "    valor_critico_superior = stats.t.ppf(1 - nivel_significancia/2, graus_liberdade)\n",
        "    valor_critico_inferior = -valor_critico_superior\n",
        "\n",
        "    if estatistica_teste > valor_critico_superior or estatistica_teste < valor_critico_inferior:\n",
        "        resultado = \"rejeita-se a afirmação dada\"\n",
        "    else:\n",
        "        resultado = \"aceita-se a afirmação dada\"\n",
        "else:\n",
        "    print(\"Tipo de teste inválido. Escolha 'unilateral' ou 'bilateral'.\")\n",
        "    exit()\n",
        "\n",
        "# Exibir os resultados\n",
        "print(\"O valor da estatística de teste é igual a\", estatistica_teste)\n",
        "print(\"A confiança do teste é igual a\", confianca)\n",
        "print(\"O valor crítico da distribuição associada é igual a\", valor_critico)\n",
        "print(\"A hipótese/afirmação dada deve ser\", resultado)\n"
      ]
    },
    {
      "cell_type": "markdown",
      "source": [
        "##Questão B"
      ],
      "metadata": {
        "id": "FaNNtZyMnEHy"
      }
    },
    {
      "cell_type": "code",
      "source": [
        "# Defina os dados da tabela\n",
        "data = {'Marca': ['A', 'B', 'C', 'D'],\n",
        "        'Quantidade': [30, 20, 40, 10]}\n",
        "\n",
        "# Crie um DataFrame a partir dos dados\n",
        "df = pd.DataFrame(data)\n",
        "\n",
        "# Solicitar o tipo de teste ao usuário\n",
        "tipo_teste = input(\"Digite o tipo de teste (unilateral ou bilateral): \")\n",
        "\n",
        "# Nível de significância fornecido pelo usuário\n",
        "alpha = float(input(\"Digite o nível de significância (entre 0 e 1): \"))\n",
        "\n",
        "# Observações totais\n",
        "total_obs = df['Quantidade'].sum()\n",
        "\n",
        "# Calcula as frequências esperadas, assumindo que não há preferência por nenhuma marca\n",
        "esperado = total_obs / len(df['Marca'])\n",
        "\n",
        "# Calcula a estatística de qui-quadrado\n",
        "qui_quadrado = np.sum((df['Quantidade'] - esperado) ** 2 / esperado)\n",
        "\n",
        "# Graus de liberdade\n",
        "graus_liberdade = len(df['Marca']) - 1\n",
        "\n",
        "# Calcula o valor crítico da distribuição qui-quadrado\n",
        "valor_critico = stats.chi2.ppf(1 - alpha, df=graus_liberdade)\n",
        "\n",
        "# Determina se a hipótese nula deve ser rejeitada\n",
        "if tipo_teste.lower() == \"unilateral\":\n",
        "    if qui_quadrado > valor_critico:\n",
        "        resultado = \"rejeita-se a afirmação\"\n",
        "    else:\n",
        "        resultado = \"aceita-se a afirmação\"\n",
        "elif tipo_teste.lower() == \"bilateral\":\n",
        "    if qui_quadrado > valor_critico or qui_quadrado < -valor_critico:\n",
        "        resultado = \"rejeita-se a afirmação\"\n",
        "    else:\n",
        "        resultado = \"aceita-se a afirmação\"\n",
        "\n",
        "# Imprime os resultados\n",
        "print(f\"O valor da estatística de teste é igual a {qui_quadrado:.4f}\")\n",
        "print(f\"A confiança do teste é igual a {1 - alpha:.2f}\")\n",
        "print(f\"O valor crítico da distribuição associada é igual a {valor_critico:.4f}\")\n",
        "print(f\"A hipótese de que a marca C é preferida sobre as outras três marcas combinadas deve ser {resultado}.\")\n"
      ],
      "metadata": {
        "colab": {
          "base_uri": "https://localhost:8080/"
        },
        "id": "bRpaJO_knD6L",
        "outputId": "e350dc51-07f4-4c2e-8a4d-c2de6db742b0"
      },
      "execution_count": 2,
      "outputs": [
        {
          "output_type": "stream",
          "name": "stdout",
          "text": [
            "Digite o tipo de teste (unilateral ou bilateral): bilateral\n",
            "Digite o nível de significância (entre 0 e 1): 0.95\n",
            "O valor da estatística de teste é igual a 20.0000\n",
            "A confiança do teste é igual a 0.05\n",
            "O valor crítico da distribuição associada é igual a 0.3518\n",
            "A hipótese de que a marca C é preferida sobre as outras três marcas combinadas deve ser rejeita-se a afirmação.\n"
          ]
        }
      ]
    }
  ]
}