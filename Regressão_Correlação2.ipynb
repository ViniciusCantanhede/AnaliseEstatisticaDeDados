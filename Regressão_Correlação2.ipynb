{
  "nbformat": 4,
  "nbformat_minor": 0,
  "metadata": {
    "colab": {
      "provenance": []
    },
    "kernelspec": {
      "name": "python3",
      "display_name": "Python 3"
    },
    "language_info": {
      "name": "python"
    }
  },
  "cells": [
    {
      "cell_type": "code",
      "execution_count": null,
      "metadata": {
        "id": "6qlCe60bUu-u"
      },
      "outputs": [],
      "source": [
        "import numpy as np\n",
        "import seaborn as sns"
      ]
    },
    {
      "cell_type": "code",
      "source": [
        "dados = np.array([\n",
        "    [1,1],\n",
        "    [2,1],\n",
        "    [3,2],\n",
        "    [4,2],\n",
        "    [5,4]\n",
        "])"
      ],
      "metadata": {
        "id": "JD8wtEtLUzjC"
      },
      "execution_count": null,
      "outputs": []
    },
    {
      "cell_type": "code",
      "source": [
        "def coeficiente_cronbach(respostas):\n",
        "    num_itens = respostas.shape[1]\n",
        "    var_total = np.var(np.sum(dados, axis=1), ddof=1)\n",
        "    var_itens = np.sum(np.var(dados, axis=0, ddof=1))\n",
        "\n",
        "    alfa_cronbach = (num_itens / (num_itens - 1)) * (1 - (var_itens / var_total))\n",
        "    return alfa_cronbach"
      ],
      "metadata": {
        "id": "hk5oJhT5VCEZ"
      },
      "execution_count": null,
      "outputs": []
    },
    {
      "cell_type": "code",
      "source": [
        "alfa = coeficiente_cronbach(dados)"
      ],
      "metadata": {
        "id": "e0vICc6XVLty"
      },
      "execution_count": null,
      "outputs": []
    },
    {
      "cell_type": "code",
      "source": [
        "print(f\"O coeficiente Alfa Cronbach é de: {alfa:.1f}\")"
      ],
      "metadata": {
        "colab": {
          "base_uri": "https://localhost:8080/"
        },
        "id": "iZBksaBzVPS5",
        "outputId": "43e396e5-14fd-4974-a6e6-33dcb6506806"
      },
      "execution_count": null,
      "outputs": [
        {
          "output_type": "stream",
          "name": "stdout",
          "text": [
            "O coeficiente Alfa Cronbach é de: 0.9\n"
          ]
        }
      ]
    },
    {
      "cell_type": "markdown",
      "source": [
        "Questão 9"
      ],
      "metadata": {
        "id": "jsilH3ZPZzTr"
      }
    },
    {
      "cell_type": "code",
      "source": [
        "x = [1,2,3,4,5]\n",
        "y = [1,1,2,2,4]"
      ],
      "metadata": {
        "id": "9NguMqbsW4al"
      },
      "execution_count": null,
      "outputs": []
    },
    {
      "cell_type": "code",
      "source": [
        "media_x = sum(x) / len(x)\n",
        "media_y = sum(y) / len(y)\n",
        "\n",
        "sum_xy = 0\n",
        "sum_x_quadrado = 0\n",
        "sum_y_quadrado = 0"
      ],
      "metadata": {
        "id": "04NUyXALXDEl"
      },
      "execution_count": null,
      "outputs": []
    },
    {
      "cell_type": "code",
      "source": [
        "for i in range(len(x)):\n",
        "  sum_xy +=(x[i] - media_x) * (y[i] - media_y)\n",
        "  sum_x_quadrado += (y[i] - media_y) ** 2\n",
        "  sum_y_quadrado += (y[i] - media_y) ** 2"
      ],
      "metadata": {
        "id": "ZcXp-iBqXdr7"
      },
      "execution_count": null,
      "outputs": []
    },
    {
      "cell_type": "code",
      "source": [
        "correlacao = sum_xy / (pow(sum_x_quadrado, 0.5) * pow(sum_y_quadrado, 0.5))\n",
        "print(f\"A correlação é de Pearson é: {correlacao}\")"
      ],
      "metadata": {
        "colab": {
          "base_uri": "https://localhost:8080/"
        },
        "id": "8H0_4WrYYOiS",
        "outputId": "2a3bbeca-691e-4323-b4bc-907c76b944bf"
      },
      "execution_count": null,
      "outputs": [
        {
          "output_type": "stream",
          "name": "stdout",
          "text": [
            "A correlação é de Pearson é: 1.1666666666666667\n"
          ]
        }
      ]
    },
    {
      "cell_type": "code",
      "source": [
        "import matplotlib.pyplot as plt\n",
        "plt.scatter(x, y, label = 'Pontos', color = 'red', marker = 'o')\n",
        "plt.legend()\n",
        "plt.show()"
      ],
      "metadata": {
        "colab": {
          "base_uri": "https://localhost:8080/",
          "height": 430
        },
        "id": "oba3b3k0YnvX",
        "outputId": "ce0c15f3-a43c-4d5b-e4de-3e7f5f8a836b"
      },
      "execution_count": null,
      "outputs": [
        {
          "output_type": "display_data",
          "data": {
            "text/plain": [
              "<Figure size 640x480 with 1 Axes>"
            ],
            "image/png": "[encoded data removed]"
          },
          "metadata": {}
        }
      ]
    },
    {
      "cell_type": "markdown",
      "source": [
        "Questão 9"
      ],
      "metadata": {
        "id": "uLq9EBdoZ1_q"
      }
    },
    {
      "cell_type": "code",
      "source": [
        "x = [1, 2, 3, 4, 5]\n",
        "y = [1, 1, 2, 2, 4]"
      ],
      "metadata": {
        "id": "ZXIDZrWsYq8o"
      },
      "execution_count": null,
      "outputs": []
    },
    {
      "cell_type": "code",
      "source": [
        "for k in range(len(x)):\n",
        " sum_xy += x[k] * y[k]\n",
        " sum_x_quadrado += x[k] ** 2\n",
        "n=len(x)"
      ],
      "metadata": {
        "id": "PNrCBkMVZ_15"
      },
      "execution_count": null,
      "outputs": []
    },
    {
      "cell_type": "code",
      "source": [
        "a = (n * sum_xy - sum(x) * sum(y)) / (n *sum_x_quadrado - (sum(x))**2)\n",
        "b = (sum(y) - a * sum(x)) / n"
      ],
      "metadata": {
        "id": "V5vKDCiNZ_y4"
      },
      "execution_count": null,
      "outputs": []
    },
    {
      "cell_type": "code",
      "source": [
        "print(f\"Valor do coeficinete A: {a}\")\n",
        "print(f\"Valor do coeficinete B: {b}\")"
      ],
      "metadata": {
        "colab": {
          "base_uri": "https://localhost:8080/"
        },
        "id": "4BNj87_4Z_vN",
        "outputId": "16f7f658-3775-41d3-e8dd-51c64bfed013"
      },
      "execution_count": null,
      "outputs": [
        {
          "output_type": "stream",
          "name": "stdout",
          "text": [
            "Valor do coeficinete A: 0.7183098591549296\n",
            "Valor do coeficinete B: -0.1549295774647888\n"
          ]
        }
      ]
    },
    {
      "cell_type": "markdown",
      "source": [
        "## questão 11"
      ],
      "metadata": {
        "id": "-8_dQt-CphKh"
      }
    },
    {
      "cell_type": "code",
      "source": [
        "area = np.array([8277, 7672, 8567, 9714, 43510])\n",
        "receita = np.array([80.211, 39.009, 86.956, 114.606, 411.926])"
      ],
      "metadata": {
        "id": "B_NYZlsdggHP"
      },
      "execution_count": null,
      "outputs": []
    },
    {
      "cell_type": "code",
      "source": [
        "plt.hist(area)"
      ],
      "metadata": {
        "colab": {
          "base_uri": "https://localhost:8080/",
          "height": 499
        },
        "id": "DxIV6HrLg31k",
        "outputId": "da6f9e41-5da6-40c6-e089-cca1685c2f4e"
      },
      "execution_count": null,
      "outputs": [
        {
          "output_type": "execute_result",
          "data": {
            "text/plain": [
              "(array([4., 0., 0., 0., 0., 0., 0., 0., 0., 1.]),\n",
              " array([ 7672. , 11255.8, 14839.6, 18423.4, 22007.2, 25591. , 29174.8,\n",
              "        32758.6, 36342.4, 39926.2, 43510. ]),\n",
              " <BarContainer object of 10 artists>)"
            ]
          },
          "metadata": {},
          "execution_count": 18
        },
        {
          "output_type": "display_data",
          "data": {
            "text/plain": [
              "<Figure size 640x480 with 1 Axes>"
            ],
            "image/png": "[encoded data removed]"
          },
          "metadata": {}
        }
      ]
    },
    {
      "cell_type": "code",
      "source": [
        "plt.hist(receita)"
      ],
      "metadata": {
        "colab": {
          "base_uri": "https://localhost:8080/",
          "height": 499
        },
        "id": "Xda6VzfDhN9O",
        "outputId": "c77f2af5-5d1e-4418-9c2a-9d8c3b07935c"
      },
      "execution_count": null,
      "outputs": [
        {
          "output_type": "execute_result",
          "data": {
            "text/plain": [
              "(array([1., 2., 1., 0., 0., 0., 0., 0., 0., 1.]),\n",
              " array([ 39.009 ,  76.3007, 113.5924, 150.8841, 188.1758, 225.4675,\n",
              "        262.7592, 300.0509, 337.3426, 374.6343, 411.926 ]),\n",
              " <BarContainer object of 10 artists>)"
            ]
          },
          "metadata": {},
          "execution_count": 19
        },
        {
          "output_type": "display_data",
          "data": {
            "text/plain": [
              "<Figure size 640x480 with 1 Axes>"
            ],
            "image/png": "[encoded data removed]"
          },
          "metadata": {}
        }
      ]
    },
    {
      "cell_type": "code",
      "source": [
        "plt.scatter(area, receita, color = 'orange', marker='x')"
      ],
      "metadata": {
        "colab": {
          "base_uri": "https://localhost:8080/",
          "height": 447
        },
        "id": "5GeZ3Xfwg8Sz",
        "outputId": "c9260a73-6f91-40ee-8e23-01044f98720b"
      },
      "execution_count": null,
      "outputs": [
        {
          "output_type": "execute_result",
          "data": {
            "text/plain": [
              "<matplotlib.collections.PathCollection at 0x7cb91abfd570>"
            ]
          },
          "metadata": {},
          "execution_count": 20
        },
        {
          "output_type": "display_data",
          "data": {
            "text/plain": [
              "<Figure size 640x480 with 1 Axes>"
            ],
            "image/png": "[encoded data removed]"
          },
          "metadata": {}
        }
      ]
    },
    {
      "cell_type": "code",
      "source": [
        "def calcular_regressao_linear(area, receita):\n",
        "    n = len(area)\n",
        "\n",
        "    soma_area = sum(area)\n",
        "    soma_receita = sum(receita)\n",
        "    soma_area_quadrado = sum([xi**2 for xi in x])\n",
        "    soma_area_receita = sum([x[i] * y[i] for i in range(n)])\n",
        "\n",
        "    a = (n * soma_receita - soma_area * soma_receita) / (n * soma_area_quadrado - soma_area**2)\n",
        "    b = (soma_receita - a * soma_area) / n\n",
        "\n",
        "    return a, b\n",
        "\n",
        "a, b = calcular_regressao_linear(x, y)\n",
        "print(\"Valor de a:\", a)\n",
        "print(\"Valor de b:\", b)\n",
        "print(f\"A reta de regressão é y = {a}x  {b}\")"
      ],
      "metadata": {
        "colab": {
          "base_uri": "https://localhost:8080/"
        },
        "id": "X2mqr9UsorK-",
        "outputId": "7d5ad23f-ca76-4b92-91e8-991b22a1f63e"
      },
      "execution_count": null,
      "outputs": [
        {
          "output_type": "stream",
          "name": "stdout",
          "text": [
            "Valor de a: -2.0\n",
            "Valor de b: 8.0\n",
            "A reta de regressão é y = -2.0x  8.0\n"
          ]
        }
      ]
    },
    {
      "cell_type": "code",
      "source": [
        "media_receita = np.mean(receita)\n",
        "media_receita"
      ],
      "metadata": {
        "colab": {
          "base_uri": "https://localhost:8080/"
        },
        "id": "YSPD9SGkoRfz",
        "outputId": "bbc950e7-9b23-4acb-a838-e2bc3cf915a9"
      },
      "execution_count": null,
      "outputs": [
        {
          "output_type": "execute_result",
          "data": {
            "text/plain": [
              "146.5416"
            ]
          },
          "metadata": {},
          "execution_count": 22
        }
      ]
    }
  ]
}