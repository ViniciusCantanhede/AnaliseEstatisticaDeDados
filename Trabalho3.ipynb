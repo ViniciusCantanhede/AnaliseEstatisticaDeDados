{
  "nbformat": 4,
  "nbformat_minor": 0,
  "metadata": {
    "colab": {
      "provenance": []
    },
    "kernelspec": {
      "name": "python3",
      "display_name": "Python 3"
    },
    "language_info": {
      "name": "python"
    }
  },
  "cells": [
    {
      "cell_type": "code",
      "execution_count": null,
      "metadata": {
        "colab": {
          "base_uri": "https://localhost:8080/"
        },
        "id": "PzHSTke4gbgj",
        "outputId": "1a3aadfc-a922-4059-e4dc-fd34163175a2"
      },
      "outputs": [
        {
          "output_type": "stream",
          "name": "stdout",
          "text": [
            "[Simulação 1] O tamanho mínimo da amostra considerando uma confiança de 99.0% é igual a: 854\n",
            "[Simulação 2] O tamanho mínimo da amostra considerando uma confiança de 99.0% é igual a: 1024\n",
            "[Simulação 3] O tamanho mínimo da amostra considerando uma confiança de 99.0% é igual a: 819\n",
            "[Simulação 4] O tamanho mínimo da amostra considerando uma confiança de 99.0% é igual a: 947\n",
            "[Simulação 5] O tamanho mínimo da amostra considerando uma confiança de 99.0% é igual a: 1291\n"
          ]
        }
      ],
      "source": [
        "import numpy as np\n",
        "\n",
        "# Função para gerar matriz de respostas aleatórias\n",
        "def gerar_matriz_respostas_aleatorias(num_respondentes, num_questoes, escala_max=5):\n",
        "    return np.random.randint(1, escala_max+1, (num_respondentes, num_questoes))\n",
        "\n",
        "# Função para calcular o tamanho da amostra com base nas respostas e pesos\n",
        "def calcular_tamanho_amostra_baseado_em_respostas(respostas, pesos, confianca, margem_erro):\n",
        "    # Cálculo dos desvios padrões para cada questão\n",
        "    desvios_padroes = np.std(respostas, axis=0)\n",
        "    # Cálculo do desvio padrão geral para o questionário\n",
        "    sigma_q = np.sum(desvios_padroes * pesos)\n",
        "\n",
        "    z_scores = {0.90: 1.645, 0.95: 1.96, 0.99: 2.576}\n",
        "    z = z_scores.get(confianca)\n",
        "    n =((z * sigma_q) / margem_erro)**2\n",
        "    return round(n)\n",
        "\n",
        "# Parâmetros de simulação\n",
        "num_simulacoes = 5\n",
        "num_questoes = 5\n",
        "num_respondentes_pre_teste = 5\n",
        "nivel_confianca = 0.99\n",
        "erro = 0.1\n",
        "pesos = np.array([0.2, 0.3, 0.15, 0.15, 0.2])\n",
        "\n",
        "# Simulando padrões de respostas de diferentes amostras\n",
        "for _ in range(num_simulacoes):\n",
        "  respostas_aleatorias = gerar_matriz_respostas_aleatorias(num_respondentes_pre_teste, num_questoes)\n",
        "  tamanho_amostra = calcular_tamanho_amostra_baseado_em_respostas(respostas_aleatorias, pesos, nivel_confianca, erro)\n",
        "  print(f\"[Simulação {_+1}] O tamanho mínimo da amostra considerando uma confiança de {nivel_confianca*100}% é igual a: {tamanho_amostra}\")"
      ]
    }
  ]
}